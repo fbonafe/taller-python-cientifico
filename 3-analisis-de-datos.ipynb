{
 "cells": [
  {
   "cell_type": "markdown",
   "metadata": {},
   "source": [
    "# Lectura, análisis y graficación de datos\n",
    "\n",
    "En esta notebook aprenderemos a:\n",
    "* cargar datos de archivo\n",
    "* aplicar transformaciones a los datos\n",
    "* realizar un ajuste\n",
    "* graficar los resultados"
   ]
  },
  {
   "cell_type": "markdown",
   "metadata": {},
   "source": [
    "Usaremos la biblioteca **más importante** para ciencia que es **numpy** "
   ]
  },
  {
   "cell_type": "code",
   "execution_count": null,
   "metadata": {
    "collapsed": true
   },
   "outputs": [],
   "source": [
    "import numpy as np"
   ]
  },
  {
   "cell_type": "markdown",
   "metadata": {},
   "source": [
    "Ahora podremos acceder a todas las funciones y atributos de numpy como `np.algo`"
   ]
  },
  {
   "cell_type": "code",
   "execution_count": null,
   "metadata": {},
   "outputs": [],
   "source": [
    "np.pi"
   ]
  },
  {
   "cell_type": "code",
   "execution_count": null,
   "metadata": {},
   "outputs": [],
   "source": [
    "np.sin(np.pi)"
   ]
  },
  {
   "cell_type": "markdown",
   "metadata": {},
   "source": [
    "¿Por qué no es cero? (⊙_☉)"
   ]
  },
  {
   "cell_type": "markdown",
   "metadata": {},
   "source": [
    "Carguemos datos \"experimentales\" para analizar..."
   ]
  },
  {
   "cell_type": "code",
   "execution_count": null,
   "metadata": {
    "collapsed": true
   },
   "outputs": [],
   "source": [
    "data = np.genfromtxt('exp_raw_data.dat') #carga el archivo completo!"
   ]
  },
  {
   "cell_type": "code",
   "execution_count": null,
   "metadata": {},
   "outputs": [],
   "source": [
    "data.shape #nos permite saber la \"forma\" de la matriz"
   ]
  },
  {
   "cell_type": "markdown",
   "metadata": {},
   "source": [
    "Queremos que la primer columna sea la variable `x` y la segunda la variable `y`"
   ]
  },
  {
   "cell_type": "code",
   "execution_count": null,
   "metadata": {
    "collapsed": true
   },
   "outputs": [],
   "source": [
    "x = data[:,0] # los \":\" en la primera posicion quiere decir todas las filas, el \"0\" quiere decir 1era columa\n",
    "y = data[:,1] # el \"1\" quiere decir 2nda columa"
   ]
  },
  {
   "cell_type": "code",
   "execution_count": null,
   "metadata": {
    "collapsed": true
   },
   "outputs": [],
   "source": [
    "import matplotlib.pyplot as plt #para graficar\n",
    "%matplotlib inline \n",
    "# la segunda línea es para que nos muestre los gráficos en la notebook"
   ]
  },
  {
   "cell_type": "code",
   "execution_count": null,
   "metadata": {},
   "outputs": [],
   "source": [
    "plt.scatter(x,y)"
   ]
  },
  {
   "cell_type": "markdown",
   "metadata": {},
   "source": [
    "Queremos normalizar la variable `y` (dividirla por el valor más grande) y pasar la `x` de segundos a milisegundos. Para eso:"
   ]
  },
  {
   "cell_type": "code",
   "execution_count": null,
   "metadata": {
    "collapsed": true
   },
   "outputs": [],
   "source": [
    "x = x * 1000\n",
    "y = y/y.max()"
   ]
  },
  {
   "cell_type": "code",
   "execution_count": null,
   "metadata": {},
   "outputs": [],
   "source": [
    "plt.scatter(x,y)"
   ]
  },
  {
   "cell_type": "markdown",
   "metadata": {},
   "source": [
    "Ahora ajustaremos una exponencial a estos datos. Para esto usaremos el método `curve_fit()` del módulo `scipy.optimize`"
   ]
  },
  {
   "cell_type": "code",
   "execution_count": null,
   "metadata": {
    "collapsed": true
   },
   "outputs": [],
   "source": [
    "from scipy import optimize"
   ]
  },
  {
   "cell_type": "markdown",
   "metadata": {},
   "source": [
    "Cuando se tenga duda de la sintaxis, se puede ver la documentación con un signo ? al final:"
   ]
  },
  {
   "cell_type": "code",
   "execution_count": null,
   "metadata": {
    "collapsed": true
   },
   "outputs": [],
   "source": [
    "optimize.curve_fit?"
   ]
  },
  {
   "cell_type": "markdown",
   "metadata": {},
   "source": [
    "La doc indica que los parámetros obligatorios son una función f, xdata e ydata. Por lo que debemos definir una función. En general una función se define:\n",
    "\n",
    "`def fun(val1, val2):`\n",
    "\n",
    "    ...\n",
    "    return algo\n",
    "    \n",
    "    \n",
    "La función a la que lo queremos ajustar es:\n",
    "$$ y = A \\exp(-t/\\tau) $$"
   ]
  },
  {
   "cell_type": "code",
   "execution_count": null,
   "metadata": {
    "collapsed": true
   },
   "outputs": [],
   "source": [
    "def exp(x,a,tau):\n",
    "    \"\"\" Devuelve la exponencial negativa para un número o array de numpy x, \n",
    "    con factor pre-exponencial a y tiempo característico tau\"\"\"\n",
    "    return a * np.exp(-x/tau)"
   ]
  },
  {
   "cell_type": "markdown",
   "metadata": {},
   "source": [
    "Ahora podemos hacer el ajuste propiamente dicho (notar que devuelve dos resultados, los parámetros optimizados `popt` y su covarianza `pcov`)"
   ]
  },
  {
   "cell_type": "code",
   "execution_count": null,
   "metadata": {},
   "outputs": [],
   "source": [
    "popt, pcov = optimize.curve_fit(exp,x,y)"
   ]
  },
  {
   "cell_type": "code",
   "execution_count": null,
   "metadata": {},
   "outputs": [],
   "source": [
    "opt_a, opt_tau = popt\n",
    "popt"
   ]
  },
  {
   "cell_type": "code",
   "execution_count": null,
   "metadata": {},
   "outputs": [],
   "source": [
    "plt.scatter(x,y)\n",
    "plt.plot(x, exp(x, opt_a, opt_tau),c='r')"
   ]
  },
  {
   "cell_type": "markdown",
   "metadata": {},
   "source": [
    "El resultado dio como el culo, debido a que el inicial guess por defecto es 1 para todos los parámetros (factor pre-exponencial y tiempo característico en este caso).\n",
    "\n",
    "Por eso conviene estimar \"a ojo\" los parámetros mirando el scatter plot, y dárselos a `curve_fit` a través del parámetro p0 (initial guess), que se escribe como lista:"
   ]
  },
  {
   "cell_type": "code",
   "execution_count": null,
   "metadata": {
    "collapsed": true
   },
   "outputs": [],
   "source": [
    "popt, pcov = optimize.curve_fit(exp,x,y,p0=[1, 3500])\n",
    "opt_a, opt_tau = popt"
   ]
  },
  {
   "cell_type": "code",
   "execution_count": null,
   "metadata": {},
   "outputs": [],
   "source": [
    "popt"
   ]
  },
  {
   "cell_type": "code",
   "execution_count": null,
   "metadata": {},
   "outputs": [],
   "source": [
    "plt.scatter(x,y)\n",
    "plt.plot(x, exp(x, opt_a, opt_tau),c='r')"
   ]
  },
  {
   "cell_type": "code",
   "execution_count": null,
   "metadata": {
    "collapsed": true
   },
   "outputs": [],
   "source": [
    "yfit = exp(x, opt_a, opt_tau)"
   ]
  },
  {
   "cell_type": "code",
   "execution_count": null,
   "metadata": {},
   "outputs": [],
   "source": [
    "plt.figure(figsize=(8,8))\n",
    "plt.scatter(x,y,alpha=0.8,s=100,label='data')\n",
    "plt.plot(x, exp(x, opt_a, opt_tau),c='r',lw=4,label='ajuste')\n",
    "plt.xlim(0,10000)\n",
    "plt.ylim(0,1)\n",
    "plt.legend(loc='upper right', fontsize=20)\n",
    "plt.xlabel('tiempo', fontsize=20)\n",
    "plt.ylabel('intensidad', fontsize=20)\n",
    "plt.xticks(fontsize=16)\n",
    "plt.yticks(fontsize=16)\n",
    "#plt.savefig('plot.png',dpi=300)"
   ]
  },
  {
   "cell_type": "markdown",
   "metadata": {},
   "source": [
    "Para guardar los datos experimentales y el ajuste a archivo, podemos usar `np.savetxt`. Si le pasamos una tupla de arrays (array1, array2, ...) los escribirá **en filas**, lo que resulta inconveniente. Para que los escriba en columnas, simplemente los envolvemos con un `np.column_stack()` que los ordena en columnas."
   ]
  },
  {
   "cell_type": "code",
   "execution_count": null,
   "metadata": {
    "collapsed": true
   },
   "outputs": [],
   "source": [
    "np.savetxt('exp_normal_data.dat', np.column_stack((x,y)))\n",
    "np.savetxt('exp_fit.dat', np.column_stack((x,yfit)))"
   ]
  },
  {
   "cell_type": "markdown",
   "metadata": {},
   "source": [
    "Nota al pie: para generar los datos que analizamos usé las siguientes funciones:"
   ]
  },
  {
   "cell_type": "code",
   "execution_count": null,
   "metadata": {
    "collapsed": true
   },
   "outputs": [],
   "source": [
    "x = np.linspace(0,10,100)\n",
    "y = 4.5 * (np.exp(-x/np.pi) + 0.1*np.random.rand(100)*np.sqrt(x/10))\n",
    "np.savetxt('exp_raw_data.dat', np.column_stack((x,y)))"
   ]
  },
  {
   "cell_type": "markdown",
   "metadata": {},
   "source": [
    "En el próximo notebook veremos cómo resolver ecuaciones directamente de forma numérica desde cero."
   ]
  },
  {
   "cell_type": "code",
   "execution_count": null,
   "metadata": {
    "collapsed": true
   },
   "outputs": [],
   "source": []
  }
 ],
 "metadata": {
  "kernelspec": {
   "display_name": "Python 3",
   "language": "python",
   "name": "python3"
  },
  "language_info": {
   "codemirror_mode": {
    "name": "ipython",
    "version": 3
   },
   "file_extension": ".py",
   "mimetype": "text/x-python",
   "name": "python",
   "nbconvert_exporter": "python",
   "pygments_lexer": "ipython3",
   "version": "3.6.3"
  }
 },
 "nbformat": 4,
 "nbformat_minor": 2
}
