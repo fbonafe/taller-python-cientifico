{
 "cells": [
  {
   "cell_type": "markdown",
   "metadata": {},
   "source": [
    "## Lectura y escritura de archivos\n",
    "\n",
    "Siempre necesitamos leer y escribir archivos. Es la forma básica de interactuar con el resto del sistema, introducir y exportar datos para la \"computación\". Como en Python todo es un objeto, lo que tenemos es un \"objeto manejador de archivos\" . La forma más básica de obtener uno es con la función `open()` que se le dice la ruta al archivo y modo/s, que se especifican con \n",
    "\n",
    "\n",
    "       'r': lectura (default)\n",
    "       'w': (sobre)escritura\n",
    "       'a': agregar contenido al final \n",
    "       'x': para escribir, pero no sobreescribe si existe el path\n",
    "       'b': modo binario\n",
    "       't': modo texto (default)\n",
    "       '+':\tactualizar contenido\n",
    "       \n",
    "\n"
   ]
  },
  {
   "cell_type": "markdown",
   "metadata": {},
   "source": [
    "Vamos a leer un archivo de coordenadas en formato `.xyz`. La forma de estos archivos es:\n",
    "\n",
    "`natoms`\n",
    "\n",
    "`El1   x1   y1   z1`\n",
    "\n",
    "`El2   x2   y2   z2`\n",
    "\n",
    "`El3   x3   y3   z3`\n",
    "\n",
    "`El4   x4   y4   z4`\n",
    "\n",
    "..."
   ]
  },
  {
   "cell_type": "markdown",
   "metadata": {},
   "source": [
    "Abrimos el archivo en modo lectura:"
   ]
  },
  {
   "cell_type": "code",
   "execution_count": 4,
   "metadata": {},
   "outputs": [],
   "source": [
    "coords = open('benceno.xyz', 'r')"
   ]
  },
  {
   "cell_type": "markdown",
   "metadata": {},
   "source": [
    "Pero `coords` es un **objeto**"
   ]
  },
  {
   "cell_type": "code",
   "execution_count": 6,
   "metadata": {},
   "outputs": [
    {
     "data": {
      "text/plain": [
       "_io.TextIOWrapper"
      ]
     },
     "execution_count": 6,
     "metadata": {},
     "output_type": "execute_result"
    }
   ],
   "source": [
    "type(coords)"
   ]
  },
  {
   "cell_type": "markdown",
   "metadata": {},
   "source": [
    "Para leer las líneas hay varias opciones. Si el archivo no es muy pesado se puede cargar completamente en la memoria RAM, con el método `readlines()`"
   ]
  },
  {
   "cell_type": "code",
   "execution_count": 7,
   "metadata": {
    "collapsed": true
   },
   "outputs": [],
   "source": [
    "lines = coords.readlines()"
   ]
  },
  {
   "cell_type": "code",
   "execution_count": 8,
   "metadata": {},
   "outputs": [
    {
     "data": {
      "text/plain": [
       "['   12\\n',\n",
       " 'Geometry Step: 0\\n',\n",
       " '    H      1.39607000      0.43074000      2.15996000      0.92968011\\n',\n",
       " '    C      0.85913000      0.50351000      1.20875000      4.07031277\\n',\n",
       " '    C     -0.53080000      0.56071000      1.19732000      4.07032900\\n',\n",
       " '    H     -1.08772000      0.53293000      2.13935000      0.92967479\\n',\n",
       " '    C     -1.21318000      0.65312000     -0.01143000      4.07031685\\n',\n",
       " '    H     -2.30692000      0.69804000     -0.02044000      0.92969535\\n',\n",
       " '    C     -0.50578000      0.68838000     -1.20876000      4.07032999\\n',\n",
       " '    H     -1.04276000      0.76109000     -2.15990000      0.92966796\\n',\n",
       " '    C      0.88412000      0.63113000     -1.19730000      4.07031927\\n',\n",
       " '    H      1.44077000      0.65875000     -2.13946000      0.92967718\\n',\n",
       " '    C      1.56654000      0.53873000      0.01143000      4.07031519\\n',\n",
       " '    H      2.66024000      0.49368000      0.02049000      0.92968155\\n',\n",
       " '   12\\n',\n",
       " 'Geometry Step: 1\\n',\n",
       " '    H      1.39925154      0.43031730      2.16550949      0.92730244\\n',\n",
       " '    C      0.86476914      0.50273118      1.21903042      4.07268533\\n',\n",
       " '    C     -0.53675090      0.56040047      1.20737038      4.07264215\\n',\n",
       " '    H     -1.09095664      0.53276798      2.14492215      0.92734691\\n',\n",
       " '    C     -1.22504028      0.65361195     -0.01154519      4.07274344\\n',\n",
       " '    H     -2.31335218      0.69831422     -0.02048486      0.92726891\\n',\n",
       " '    C     -0.51148320      0.68914268     -1.21890225      4.07264478\\n',\n",
       " '    H     -1.04595718      0.76152059     -2.16552212      0.92734794\\n',\n",
       " '    C      0.89006662      0.63143325     -1.20740490      4.07267132\\n',\n",
       " '    H      1.44410291      0.65892221     -2.14503866      0.92732159\\n',\n",
       " '    C      1.57833262      0.53823500      0.01155734      4.07273409\\n',\n",
       " '    H      2.66672754      0.49341318      0.02051821      0.92729109\\n',\n",
       " '   12\\n',\n",
       " 'Geometry Step: 2\\n',\n",
       " '    H      1.39721081      0.43058843      2.16194988      0.92882345\\n',\n",
       " '    C      0.86115203      0.50323074      1.21243626      4.07116764\\n',\n",
       " '    C     -0.53293382      0.56059901      1.20092377      4.07116225\\n',\n",
       " '    H     -1.08888056      0.53287191      2.14134801      0.92883626\\n',\n",
       " '    C     -1.21743275      0.65329640     -0.01147130      4.07119126\\n',\n",
       " '    H     -2.30922639      0.69813833     -0.02045609      0.92882095\\n',\n",
       " '    C     -0.50782500      0.68865347     -1.21239671      4.07116381\\n',\n",
       " '    H     -1.04390641      0.76124440     -2.16191593      0.92883227\\n',\n",
       " '    C      0.88625228      0.63123874     -1.20092332      4.07116674\\n',\n",
       " '    H      1.44196508      0.65881175     -2.14146034      0.92882853\\n',\n",
       " '    C      1.57076849      0.53855251      0.01147566      4.07118660\\n',\n",
       " '    H      2.66256624      0.49358433      0.02050011      0.92882025\\n',\n",
       " '   12\\n',\n",
       " 'Geometry Step: 3\\n',\n",
       " '    H      1.39953477      0.43027729      2.16603492      0.92932190\\n',\n",
       " '    C      0.86158098      0.50317299      1.21317965      4.07067332\\n',\n",
       " '    C     -0.53342209      0.56057287      1.20165531      4.07067328\\n',\n",
       " '    H     -1.09125517      0.53275318      2.14541603      0.92932933\\n',\n",
       " '    C     -1.21831360      0.65333398     -0.01148631      4.07067391\\n',\n",
       " '    H     -2.31396475      0.69833867     -0.02049187      0.92932597\\n',\n",
       " '    C     -0.50827509      0.68870555     -1.21313826      4.07067213\\n',\n",
       " '    H     -1.04622922      0.76155787     -2.16601298      0.92932965\\n',\n",
       " '    C      0.88673024      0.63126038     -1.20165065      4.07067688\\n',\n",
       " '    H      1.44438788      0.65893615     -2.14553134      0.92932658\\n',\n",
       " '    C      1.57162373      0.53851216      0.01150738      4.07066338\\n',\n",
       " '    H      2.66731232      0.49338891      0.02052812      0.92933368\\n',\n",
       " '   12\\n',\n",
       " 'Geometry Step: 4\\n',\n",
       " '    H      1.40329502      0.42977384      2.17264464      0.93012380\\n',\n",
       " '    C      0.86227505      0.50307956      1.21438250      4.06987799\\n',\n",
       " '    C     -0.53421212      0.56053058      1.20283896      4.06988662\\n',\n",
       " '    H     -1.09509738      0.53256107      2.15199822      0.93012245\\n',\n",
       " '    C     -1.21973885      0.65339478     -0.01151060      4.06984152\\n',\n",
       " '    H     -2.32163157      0.69866283     -0.02054976      0.93013864\\n',\n",
       " '    C     -0.50900335      0.68878982     -1.21433811      4.06988112\\n',\n",
       " '    H     -1.04998760      0.76206507     -2.17264215      0.93012980\\n',\n",
       " '    C      0.88750359      0.63129540     -1.20282749      4.06988885\\n',\n",
       " '    H      1.44830806      0.65913744     -2.15211835      0.93012772\\n',\n",
       " '    C      1.57300754      0.53844689      0.01155871      4.06982150\\n',\n",
       " '    H      2.67499163      0.49307272      0.02057343      0.93015999\\n',\n",
       " '   12\\n',\n",
       " 'Geometry Step: 5\\n',\n",
       " '    H      1.40060180      0.43013443      2.16791053      0.92955004\\n',\n",
       " '    C      0.86177794      0.50314648      1.21352098      4.07044704\\n',\n",
       " '    C     -0.53364627      0.56056087      1.20199119      4.07044946\\n',\n",
       " '    H     -1.09234546      0.53269866      2.14728383      0.92955496\\n',\n",
       " '    C     -1.21871804      0.65335123     -0.01149320      4.07043712\\n',\n",
       " '    H     -2.31614033      0.69843065     -0.02050829      0.92955713\\n',\n",
       " '    C     -0.50848175      0.68872947     -1.21347874      4.07044711\\n',\n",
       " '    H     -1.04729572      0.76170179     -2.16789411      0.92955728\\n',\n",
       " '    C      0.88694969      0.63127032     -1.20198460      4.07045269\\n',\n",
       " '    H      1.44550030      0.65899327     -2.14740051      0.92955452\\n',\n",
       " '    C      1.57201641      0.53849364      0.01152195      4.07042391\\n',\n",
       " '    H      2.66949144      0.49329919      0.02054098      0.92956873\\n',\n",
       " '   12\\n',\n",
       " 'Geometry Step: 6\\n',\n",
       " '    H      1.39913654      0.43036482      2.16524422      0.93122142\\n',\n",
       " '    C      0.85708838      0.50354301      1.20846696      4.06859004\\n',\n",
       " '    C     -0.52897293      0.56059095      1.19718854      4.06847121\\n',\n",
       " '    H     -1.09078655      0.53279014      2.14489707      0.93115252\\n',\n",
       " '    C     -1.21325647      0.65307102     -0.01132997      4.07026664\\n',\n",
       " '    H     -2.31360516      0.69841956     -0.02054387      0.93041021\\n',\n",
       " '    C     -0.50355999      0.68826111     -1.20901030      4.06868369\\n',\n",
       " '    H     -1.04577951      0.76147687     -2.16497981      0.93099284\\n',\n",
       " '    C      0.88198532      0.63118618     -1.19713122      4.06828796\\n',\n",
       " '    H      1.44408501      0.65897913     -2.14434333      0.93128650\\n',\n",
       " '    C      1.56735739      0.53869549      0.01096987      4.07073930\\n',\n",
       " '    H      2.66601796      0.49343173      0.02058185      0.92989766\\n',\n",
       " '   12\\n',\n",
       " 'Geometry Step: 7\\n',\n",
       " '    H      1.40057153      0.43013919      2.16785545      0.92958438\\n',\n",
       " '    C      0.86168105      0.50315467      1.21341657      4.07040887\\n',\n",
       " '    C     -0.53354972      0.56056149      1.20189197      4.07040874\\n',\n",
       " '    H     -1.09231325      0.53270055      2.14723452      0.92958782\\n',\n",
       " '    C     -1.21860521      0.65334544     -0.01148983      4.07043360\\n',\n",
       " '    H     -2.31608796      0.69843042     -0.02050903      0.92957478\\n',\n",
       " '    C     -0.50838006      0.68871979     -1.21338642      4.07041078\\n',\n",
       " '    H     -1.04726440      0.76169715     -2.16783390      0.92958683\\n',\n",
       " '    C      0.88684713      0.63126858     -1.20188433      4.07040818\\n',\n",
       " '    H      1.44547106      0.65899298     -2.14733735      0.92959010\\n',\n",
       " '    C      1.57192015      0.53849781      0.01151054      4.07043032\\n',\n",
       " '    H      2.66941968      0.49330193      0.02054182      0.92957560\\n']"
      ]
     },
     "execution_count": 8,
     "metadata": {},
     "output_type": "execute_result"
    }
   ],
   "source": [
    "lines #es una lista, cada elemento es una línea completa del archivo"
   ]
  },
  {
   "cell_type": "code",
   "execution_count": 9,
   "metadata": {},
   "outputs": [
    {
     "data": {
      "text/plain": [
       "112"
      ]
     },
     "execution_count": 9,
     "metadata": {},
     "output_type": "execute_result"
    }
   ],
   "source": [
    "len(lines) #número de líneas"
   ]
  },
  {
   "cell_type": "code",
   "execution_count": 10,
   "metadata": {},
   "outputs": [
    {
     "data": {
      "text/plain": [
       "'   12\\n'"
      ]
     },
     "execution_count": 10,
     "metadata": {},
     "output_type": "execute_result"
    }
   ],
   "source": [
    "lines[0]"
   ]
  },
  {
   "cell_type": "markdown",
   "metadata": {},
   "source": [
    "Obviamente la primera línea no es el número de átomos directamete, hay que hacerle unos cambios para poder leer de ahí el número. En primer lugar quitar el \\n del final, esto se hace con el método `strip()`. También hay que convertirlo a entero, con la función `int`."
   ]
  },
  {
   "cell_type": "code",
   "execution_count": 11,
   "metadata": {},
   "outputs": [
    {
     "data": {
      "text/plain": [
       "'12'"
      ]
     },
     "execution_count": 11,
     "metadata": {},
     "output_type": "execute_result"
    }
   ],
   "source": [
    "lines[0].strip()"
   ]
  },
  {
   "cell_type": "code",
   "execution_count": 12,
   "metadata": {
    "collapsed": true
   },
   "outputs": [],
   "source": [
    "natoms = int(lines[0].strip())"
   ]
  },
  {
   "cell_type": "code",
   "execution_count": 13,
   "metadata": {},
   "outputs": [
    {
     "data": {
      "text/plain": [
       "12"
      ]
     },
     "execution_count": 13,
     "metadata": {},
     "output_type": "execute_result"
    }
   ],
   "source": [
    "natoms"
   ]
  },
  {
   "cell_type": "markdown",
   "metadata": {},
   "source": [
    "Luego sabemos que la línea 1 no contiene información útil. A partir de la línea 2, queremos guardar en listas el símbolo del elemento y las coordenadas. Aquí deberemos usar el método `split()`, que genera una lista separando todos los strings separados por espacios en la línea.   "
   ]
  },
  {
   "cell_type": "code",
   "execution_count": 16,
   "metadata": {},
   "outputs": [],
   "source": [
    "linea2 = lines[2].strip().split()"
   ]
  },
  {
   "cell_type": "code",
   "execution_count": 17,
   "metadata": {},
   "outputs": [
    {
     "data": {
      "text/plain": [
       "['H', '1.39607000', '0.43074000', '2.15996000', '0.92968011']"
      ]
     },
     "execution_count": 17,
     "metadata": {},
     "output_type": "execute_result"
    }
   ],
   "source": [
    "linea2"
   ]
  },
  {
   "cell_type": "code",
   "execution_count": 20,
   "metadata": {},
   "outputs": [
    {
     "data": {
      "text/plain": [
       "('H', 1.39607, 0.43074, 2.15996)"
      ]
     },
     "execution_count": 20,
     "metadata": {},
     "output_type": "execute_result"
    }
   ],
   "source": [
    "linea2[0],float(linea2[1]),float(linea2[2]),float(linea2[3])"
   ]
  },
  {
   "cell_type": "markdown",
   "metadata": {},
   "source": [
    "El método más fácil es generar listas vacías e ir guardando sucesivamente la información que se lea del archivo usando `append`. "
   ]
  },
  {
   "cell_type": "code",
   "execution_count": 18,
   "metadata": {
    "collapsed": true
   },
   "outputs": [],
   "source": [
    "names = []\n",
    "x = []\n",
    "y = []\n",
    "z = []"
   ]
  },
  {
   "cell_type": "code",
   "execution_count": 21,
   "metadata": {
    "collapsed": true
   },
   "outputs": [],
   "source": [
    "for idx in range(2,natoms+2):\n",
    "    linea = lines[idx].strip().split()\n",
    "    names.append(linea[0])\n",
    "    x.append(float(linea[1]))\n",
    "    y.append(float(linea[2]))\n",
    "    z.append(float(linea[3]))"
   ]
  },
  {
   "cell_type": "code",
   "execution_count": 22,
   "metadata": {},
   "outputs": [
    {
     "data": {
      "text/plain": [
       "['H', 'C', 'C', 'H', 'C', 'H', 'C', 'H', 'C', 'H', 'C', 'H']"
      ]
     },
     "execution_count": 22,
     "metadata": {},
     "output_type": "execute_result"
    }
   ],
   "source": [
    "names"
   ]
  },
  {
   "cell_type": "markdown",
   "metadata": {},
   "source": [
    "A todo esto lo podemos encapsular en una función a la que le demos el archivo y nos devuelva las listas:"
   ]
  },
  {
   "cell_type": "code",
   "execution_count": 25,
   "metadata": {
    "collapsed": true
   },
   "outputs": [],
   "source": [
    "def readCoords(filename):\n",
    "    coords = open(filename, 'r')\n",
    "    lines = coords.readlines()\n",
    "    natoms = int(lines[0].strip())\n",
    "    names = []\n",
    "    x = []\n",
    "    y = []\n",
    "    z = []\n",
    "    for idx in range(2,natoms+2):\n",
    "        linea = lines[idx].strip().split()\n",
    "        names.append(linea[0])\n",
    "        x.append(float(linea[1]))\n",
    "        y.append(float(linea[2]))\n",
    "        z.append(float(linea[3]))\n",
    "    return names, x, y, z"
   ]
  },
  {
   "cell_type": "code",
   "execution_count": 26,
   "metadata": {
    "collapsed": true
   },
   "outputs": [],
   "source": [
    "Bname, Bx, By, Bz = readCoords('benceno.xyz')"
   ]
  },
  {
   "cell_type": "markdown",
   "metadata": {},
   "source": [
    "-------------------------------\n",
    "Ahora supongamos que queremos **escribir** un archivo de coordenadas. Para eso abrimos un archivo en modo \"write\" y usamos el método `write` para escribir línea a línea, recordando introducir un salto de línea `\\n` cuando corresponda.\n",
    "\n",
    "Algo importante es saber escribir cadenas con números dándoles un formato. Esto se hace colocando llaves donde van los números, dentro de las cuales se indica el formato, y al final usando el método `format()` de las cadenas, rellenar esas llaves con los valores adecuados. Por ejemplo:"
   ]
  },
  {
   "cell_type": "code",
   "execution_count": 31,
   "metadata": {
    "collapsed": true
   },
   "outputs": [],
   "source": [
    "import math"
   ]
  },
  {
   "cell_type": "code",
   "execution_count": 34,
   "metadata": {},
   "outputs": [
    {
     "name": "stdout",
     "output_type": "stream",
     "text": [
      "El número pi con 10 cifras decimales es 3.1415926536\n"
     ]
    }
   ],
   "source": [
    "ejemplo = 'El número pi con 10 cifras decimales es {:.10f}'.format(math.pi)\n",
    "print(ejemplo)"
   ]
  },
  {
   "cell_type": "markdown",
   "metadata": {},
   "source": [
    "Ahora vamos a la escritura del archivo en sí:"
   ]
  },
  {
   "cell_type": "code",
   "execution_count": 49,
   "metadata": {
    "collapsed": true
   },
   "outputs": [],
   "source": [
    "outcoords = open('out_benceno.xyz', 'w')"
   ]
  },
  {
   "cell_type": "code",
   "execution_count": 50,
   "metadata": {},
   "outputs": [
    {
     "data": {
      "text/plain": [
       "3"
      ]
     },
     "execution_count": 50,
     "metadata": {},
     "output_type": "execute_result"
    }
   ],
   "source": [
    "outcoords.write('{}\\n'.format(natoms))"
   ]
  },
  {
   "cell_type": "code",
   "execution_count": 51,
   "metadata": {},
   "outputs": [
    {
     "data": {
      "text/plain": [
       "1"
      ]
     },
     "execution_count": 51,
     "metadata": {},
     "output_type": "execute_result"
    }
   ],
   "source": [
    "outcoords.write('\\n') # linea en blanco"
   ]
  },
  {
   "cell_type": "code",
   "execution_count": null,
   "metadata": {
    "collapsed": true
   },
   "outputs": [],
   "source": [
    "for idx in range(natoms):\n",
    "    outcoords.write('{} \\t {:.15f} \\t {:.15f} \\t {:.15f} \\n'.format(names[idx],2*x[idx],y[idx],z[idx]))"
   ]
  },
  {
   "cell_type": "markdown",
   "metadata": {},
   "source": [
    "(`\\t` quiere decir `<TAB>` )"
   ]
  },
  {
   "cell_type": "code",
   "execution_count": 53,
   "metadata": {
    "collapsed": true
   },
   "outputs": [],
   "source": [
    "outcoords.close()"
   ]
  },
  {
   "cell_type": "code",
   "execution_count": 56,
   "metadata": {},
   "outputs": [
    {
     "name": "stdout",
     "output_type": "stream",
     "text": [
      "12\r\n",
      "\r\n",
      "H \t 2.792140000000000 \t 0.430740000000000 \t 2.159960000000000 \r\n",
      "C \t 1.718260000000000 \t 0.503510000000000 \t 1.208750000000000 \r\n",
      "C \t -1.061600000000000 \t 0.560710000000000 \t 1.197320000000000 \r\n",
      "H \t -2.175440000000000 \t 0.532930000000000 \t 2.139350000000000 \r\n",
      "C \t -2.426360000000000 \t 0.653120000000000 \t -0.011430000000000 \r\n",
      "H \t -4.613840000000000 \t 0.698040000000000 \t -0.020440000000000 \r\n",
      "C \t -1.011560000000000 \t 0.688380000000000 \t -1.208760000000000 \r\n",
      "H \t -2.085520000000000 \t 0.761090000000000 \t -2.159900000000000 \r\n",
      "C \t 1.768240000000000 \t 0.631130000000000 \t -1.197300000000000 \r\n",
      "H \t 2.881540000000000 \t 0.658750000000000 \t -2.139460000000000 \r\n",
      "C \t 3.133080000000000 \t 0.538730000000000 \t 0.011430000000000 \r\n",
      "H \t 5.320480000000000 \t 0.493680000000000 \t 0.020490000000000 \r\n"
     ]
    }
   ],
   "source": [
    "!cat out_benceno.xyz"
   ]
  },
  {
   "cell_type": "code",
   "execution_count": null,
   "metadata": {
    "collapsed": true
   },
   "outputs": [],
   "source": []
  }
 ],
 "metadata": {
  "kernelspec": {
   "display_name": "Python 3",
   "language": "python",
   "name": "python3"
  },
  "language_info": {
   "codemirror_mode": {
    "name": "ipython",
    "version": 3
   },
   "file_extension": ".py",
   "mimetype": "text/x-python",
   "name": "python",
   "nbconvert_exporter": "python",
   "pygments_lexer": "ipython3",
   "version": "3.6.3"
  }
 },
 "nbformat": 4,
 "nbformat_minor": 2
}
