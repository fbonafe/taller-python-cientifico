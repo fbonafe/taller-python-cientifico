{
 "cells": [
  {
   "cell_type": "markdown",
   "metadata": {},
   "source": [
    "# Integración numérica de EDO acopladas\n",
    "\n",
    "Esta notebook es una excusa para aprender integración numérica de ecuaciones en Python. El sistema que se considerará es dos masas acopladas a tres resortes.\n",
    "\n",
    "<img src=\"./resorte_doble.gif\">\n",
    "\n",
    "Las ecuaciones de movimiento son:\n",
    "\n",
    "$$ m_1 \\frac{d^2 x_1}{d t^2} = -k_1 x_1 + k_c (x_2 - x_1) $$\n",
    "\n",
    "$$ m_2 \\frac{d^2 x_2}{d t^2} = -k_2 x_2 - k_c (x_2 - x_1) $$"
   ]
  },
  {
   "cell_type": "code",
   "execution_count": null,
   "metadata": {
    "collapsed": true
   },
   "outputs": [],
   "source": [
    "import numpy as np\n",
    "import matplotlib.pyplot as plt\n",
    "%matplotlib inline"
   ]
  },
  {
   "cell_type": "code",
   "execution_count": null,
   "metadata": {
    "collapsed": true
   },
   "outputs": [],
   "source": [
    "def OAA(X, t, k1, k2, kc, m1, m2):\n",
    "    \"\"\"Osciladores Armónimos Acoplados\"\"\"\n",
    "    x1, x2 , v1 , v2 = X\n",
    "    x1p = v1\n",
    "    v1p = (-k1*x1 + kc*(x2-x1))/m1\n",
    "    x2p = v2\n",
    "    v2p = (-k2*x2 - kc*(x2-x1))/m2\n",
    "    return x1p, x2p, v1p ,v2p"
   ]
  },
  {
   "cell_type": "code",
   "execution_count": null,
   "metadata": {
    "collapsed": true
   },
   "outputs": [],
   "source": [
    "#Condiciones iniciales : Desplazamientos\n",
    "x1o, x2o = 1.0 , 0.0\n",
    "#Condiciones iniciales : Velocidades\n",
    "v1o, v2o = 0.0 , 0.0"
   ]
  },
  {
   "cell_type": "code",
   "execution_count": null,
   "metadata": {
    "collapsed": true
   },
   "outputs": [],
   "source": [
    "# Parámetros\n",
    "m1 , m2 = 1.0 , 1.0\n",
    "k1 , k2 = 10.0 ,10.0\n",
    "kc = 0.5"
   ]
  },
  {
   "cell_type": "code",
   "execution_count": null,
   "metadata": {},
   "outputs": [],
   "source": [
    "tmax, n = 160, 10000 # tmax: tiempo total. n: puntos de discretización del intervalo de tiempo \n",
    "t = np.linspace(0, tmax, n)"
   ]
  },
  {
   "cell_type": "code",
   "execution_count": null,
   "metadata": {},
   "outputs": [],
   "source": [
    "t.size"
   ]
  },
  {
   "cell_type": "markdown",
   "metadata": {},
   "source": [
    "Integraremos las ecuaciones para la grilla de tiempo. Usaremos el método `odeint` de scipy."
   ]
  },
  {
   "cell_type": "code",
   "execution_count": null,
   "metadata": {
    "collapsed": true
   },
   "outputs": [],
   "source": [
    "from scipy.integrate import odeint"
   ]
  },
  {
   "cell_type": "code",
   "execution_count": null,
   "metadata": {
    "collapsed": true
   },
   "outputs": [],
   "source": [
    "odeint?"
   ]
  },
  {
   "cell_type": "markdown",
   "metadata": {},
   "source": [
    "Los parámetros son: la función derivada de `y`, las condiciones iniciales `y0`, y el array de tiempos `t`, y los argumentos `args` si hicieran falta pasarle a la función (en este caso las constantes y las masas).\n",
    "\n",
    "Como resultado devuelve el array `y` resuleto, con `y0` en la primera fila.\n",
    "\n",
    "Noten que por atrás usa una librería de FORTRAN (odepack), por lo que corre código compilado! Numpy también tiene muchas funciones en FORTRAN."
   ]
  },
  {
   "cell_type": "code",
   "execution_count": null,
   "metadata": {
    "collapsed": true
   },
   "outputs": [],
   "source": [
    "f = odeint(OAA, (x1o, x2o, v1o, v2o), t, args=(k1, k2, kc, m1, m2))\n",
    "x1,x2,v1,v2 = f.T"
   ]
  },
  {
   "cell_type": "code",
   "execution_count": null,
   "metadata": {},
   "outputs": [],
   "source": [
    "plt.plot(t, x1, \"g-\", linewidth=2, label=\"x1\" )\n",
    "plt.plot(t, x2, \"r-\", linewidth=2, label=\"x2\" )\n",
    "plt.xlabel(\"$tiempo$\")\n",
    "plt.ylabel(\"$desplazameinto$\")\n",
    "xmin, xmax = -0.5, tmax\n",
    "ymin, ymax = -2.0, 2.0\n",
    "plt.axis([xmin,xmax,ymin,ymax])\n",
    "plt.legend(loc=\"upper left\") # \n",
    "#plt.savefig(\"myplot.pdf\")"
   ]
  },
  {
   "cell_type": "code",
   "execution_count": null,
   "metadata": {},
   "outputs": [],
   "source": [
    "fig, ax = plt.subplots(2, figsize=(16,4), sharex=True, sharey=True)\n",
    "ax[0].plot(t, x1, 'b-', lw=2, label=\"x1\")\n",
    "ax[1].plot(t, x2, 'r-', lw=2, label=\"x2\")\n",
    "ax[0].set_xlim(0,tmax)\n",
    "ax[0].set_ylim(-1.5, 1.5)\n",
    "ax[1].set_xlabel('tiempo / s', fontsize=20)\n",
    "ax[0].set_ylabel('$\\Delta x_1$', fontsize=20)\n",
    "ax[1].set_ylabel('$\\Delta x_2$', fontsize=20)"
   ]
  },
  {
   "cell_type": "code",
   "execution_count": null,
   "metadata": {},
   "outputs": [],
   "source": [
    "plt.figure(figsize=(4,4))\n",
    "plt.plot(x1, x2)\n",
    "plt.axis('equal')\n",
    "plt.xlabel(\"$x_1$\")\n",
    "plt.ylabel(\"$x_2$\")"
   ]
  },
  {
   "cell_type": "markdown",
   "metadata": {},
   "source": [
    "También podemos hacer un histograma de cuántas veces \"visitó\" cada configuración:"
   ]
  },
  {
   "cell_type": "code",
   "execution_count": null,
   "metadata": {
    "collapsed": true
   },
   "outputs": [],
   "source": [
    "hist, x1edge, x2edge = np.histogram2d(x1, x2, bins=100)"
   ]
  },
  {
   "cell_type": "code",
   "execution_count": null,
   "metadata": {},
   "outputs": [],
   "source": [
    "hist.shape"
   ]
  },
  {
   "cell_type": "code",
   "execution_count": null,
   "metadata": {},
   "outputs": [],
   "source": [
    "hist.max(), hist.min()"
   ]
  },
  {
   "cell_type": "code",
   "execution_count": null,
   "metadata": {},
   "outputs": [],
   "source": [
    "x1edge.min(), x1edge.max(), x2edge.min(), x2edge.max()"
   ]
  },
  {
   "cell_type": "code",
   "execution_count": null,
   "metadata": {},
   "outputs": [],
   "source": [
    "plt.figure(figsize=(6,6))\n",
    "plt.imshow(hist, vmax=hist.max()/6., extent=[x1edge.min(), x1edge.max(), x2edge.min(), x2edge.max()])"
   ]
  },
  {
   "cell_type": "markdown",
   "metadata": {},
   "source": [
    "Y también podemos graficarlo en 3D:"
   ]
  },
  {
   "cell_type": "code",
   "execution_count": null,
   "metadata": {
    "collapsed": true
   },
   "outputs": [],
   "source": [
    "from mpl_toolkits.mplot3d import Axes3D"
   ]
  },
  {
   "cell_type": "code",
   "execution_count": null,
   "metadata": {},
   "outputs": [],
   "source": [
    "fig = plt.figure(figsize=(8,6))\n",
    "ax = fig.gca(projection='3d')\n",
    "\n",
    "# Arrays de posición de cada una de las barras.\n",
    "# Como np.meshgrid da arrays en (ny, nx) y hay que \"aplanarlos\" usando indexado de Fortran (\"F\") (column-mayor order)\n",
    "xpos, ypos = np.meshgrid(x1edge[:-1] + 0.1, x2edge[:-1] + 0.1)\n",
    "#xpos = xpos.flatten('F')\n",
    "#ypos = ypos.flatten('F')\n",
    "#zpos = np.zeros_like(xpos)\n",
    "\n",
    "# Construct arrays with the dimensions for the 16 bars.\n",
    "dx = 0.5 * np.ones_like(zpos)\n",
    "dy = dx.copy()\n",
    "dz = hist.flatten()\n",
    "\n",
    "#ax.bar3d(xpos, ypos, zpos, dx, dy, dz, color='b', zsort='average')\n",
    "ax.plot_surface(xpos, ypos, hist, cmap=plt.get_cmap(\"viridis\"), antialiased=False)"
   ]
  },
  {
   "cell_type": "markdown",
   "metadata": {},
   "source": [
    "Queremos saber qué frecuencias están presentes en los desplazamientos. Para eso debemos tomar la transformada de Fourier de la señal. Esto se hace fácilmente usando la FFT (fast Fourier transform) de numpy:"
   ]
  },
  {
   "cell_type": "code",
   "execution_count": null,
   "metadata": {},
   "outputs": [],
   "source": [
    "freq = np.fft.rfftfreq?\n",
    "# se utiliza para generar el array de frecuencias"
   ]
  },
  {
   "cell_type": "code",
   "execution_count": null,
   "metadata": {},
   "outputs": [],
   "source": [
    "freq = np.fft.rfft?\n",
    "#se utiliza para calcular la transformada de la señal. Distinta sintaxis que la anterior!"
   ]
  },
  {
   "cell_type": "code",
   "execution_count": null,
   "metadata": {
    "collapsed": true
   },
   "outputs": [],
   "source": [
    "padding = 10"
   ]
  },
  {
   "cell_type": "code",
   "execution_count": null,
   "metadata": {
    "collapsed": true
   },
   "outputs": [],
   "source": [
    "freq = np.fft.rfftfreq(padding * t.size, t[1]-t[0])"
   ]
  },
  {
   "cell_type": "code",
   "execution_count": null,
   "metadata": {
    "collapsed": true
   },
   "outputs": [],
   "source": [
    "x1_freq = np.fft.rfft(x1-x1[0], padding * t.size) #el resultado es complejo"
   ]
  },
  {
   "cell_type": "code",
   "execution_count": null,
   "metadata": {},
   "outputs": [],
   "source": [
    "plt.plot(freq, abs(x1_freq))\n",
    "plt.xlim(0.4, 0.6)\n",
    "plt.ylim(0,3000)"
   ]
  },
  {
   "cell_type": "markdown",
   "metadata": {},
   "source": [
    "Resolviendo analíticamente sabemos que presenta dos modos normales. Por simplicidad consideramos el caso $k_1=k_2=k$ y $m_1 = m_2 = m$. Los modos tienen frecuencias:\n",
    "\n",
    "$$\\omega_1 = \\sqrt{\\frac{k}{m}}$$\n",
    "\n",
    "$$\\omega_2 = \\sqrt{\\frac{k+2k_c}{m}}$$\n",
    "\n",
    "Podemos graficar las frecuencias analíticas sobre la transformada de Fourier anterior para corroborar:"
   ]
  },
  {
   "cell_type": "code",
   "execution_count": null,
   "metadata": {},
   "outputs": [],
   "source": [
    "omega1 = np.sqrt(k1/m1)\n",
    "omega2 = np.sqrt((k1+2*kc)/m1)"
   ]
  },
  {
   "cell_type": "code",
   "execution_count": null,
   "metadata": {},
   "outputs": [],
   "source": [
    "print(omega1, omega2)"
   ]
  },
  {
   "cell_type": "code",
   "execution_count": null,
   "metadata": {},
   "outputs": [],
   "source": [
    "plt.figure(figsize=(8,6))\n",
    "plt.plot(freq, abs(x1_freq))\n",
    "plt.xlim(0.4, 0.6)\n",
    "plt.ylim(0,3000)\n",
    "plt.axvline(omega1/(2*np.pi), c='r', linestyle='--')\n",
    "plt.axvline(omega2/(2*np.pi), c='r', linestyle='--')\n",
    "plt.xlabel('frecuencia')\n",
    "plt.ylabel('intensidad')"
   ]
  },
  {
   "cell_type": "code",
   "execution_count": null,
   "metadata": {
    "collapsed": true
   },
   "outputs": [],
   "source": []
  }
 ],
 "metadata": {
  "kernelspec": {
   "display_name": "Python 3",
   "language": "python",
   "name": "python3"
  },
  "language_info": {
   "codemirror_mode": {
    "name": "ipython",
    "version": 3
   },
   "file_extension": ".py",
   "mimetype": "text/x-python",
   "name": "python",
   "nbconvert_exporter": "python",
   "pygments_lexer": "ipython3",
   "version": "3.6.3"
  }
 },
 "nbformat": 4,
 "nbformat_minor": 2
}
